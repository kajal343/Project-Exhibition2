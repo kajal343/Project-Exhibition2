{
 "cells": [
  {
   "cell_type": "code",
   "execution_count": 5,
   "id": "6813909e",
   "metadata": {},
   "outputs": [],
   "source": [
    "import pandas as pd\n",
    "import numpy as np\n",
    "df=pd.read_csv(r\"C:\\Users\\hp\\Documents\\Dataset_Crop Recomendation.csv\")"
   ]
  },
  {
   "cell_type": "code",
   "execution_count": 6,
   "id": "fcaf961b",
   "metadata": {},
   "outputs": [
    {
     "data": {
      "text/html": [
       "<div>\n",
       "<style scoped>\n",
       "    .dataframe tbody tr th:only-of-type {\n",
       "        vertical-align: middle;\n",
       "    }\n",
       "\n",
       "    .dataframe tbody tr th {\n",
       "        vertical-align: top;\n",
       "    }\n",
       "\n",
       "    .dataframe thead th {\n",
       "        text-align: right;\n",
       "    }\n",
       "</style>\n",
       "<table border=\"1\" class=\"dataframe\">\n",
       "  <thead>\n",
       "    <tr style=\"text-align: right;\">\n",
       "      <th></th>\n",
       "      <th>N</th>\n",
       "      <th>P</th>\n",
       "      <th>K</th>\n",
       "      <th>temperature</th>\n",
       "      <th>humidity</th>\n",
       "      <th>ph</th>\n",
       "      <th>rainfall</th>\n",
       "      <th>label</th>\n",
       "      <th>youtube link</th>\n",
       "    </tr>\n",
       "  </thead>\n",
       "  <tbody>\n",
       "    <tr>\n",
       "      <th>0</th>\n",
       "      <td>89</td>\n",
       "      <td>47</td>\n",
       "      <td>38</td>\n",
       "      <td>25.524690</td>\n",
       "      <td>72.248508</td>\n",
       "      <td>6.002525</td>\n",
       "      <td>151.886997</td>\n",
       "      <td>Jute</td>\n",
       "      <td>https://youtu.be/Y4wzO75tMjM?si=0DTyyneH2otipLIw</td>\n",
       "    </tr>\n",
       "    <tr>\n",
       "      <th>1</th>\n",
       "      <td>60</td>\n",
       "      <td>37</td>\n",
       "      <td>39</td>\n",
       "      <td>26.591050</td>\n",
       "      <td>82.941641</td>\n",
       "      <td>6.033485</td>\n",
       "      <td>161.247000</td>\n",
       "      <td>Jute</td>\n",
       "      <td>https://youtu.be/Y4wzO75tMjM?si=0DTyyneH2otipLIw</td>\n",
       "    </tr>\n",
       "    <tr>\n",
       "      <th>2</th>\n",
       "      <td>63</td>\n",
       "      <td>41</td>\n",
       "      <td>45</td>\n",
       "      <td>25.297818</td>\n",
       "      <td>86.887053</td>\n",
       "      <td>7.121934</td>\n",
       "      <td>196.624951</td>\n",
       "      <td>Jute</td>\n",
       "      <td>https://youtu.be/Y4wzO75tMjM?si=0DTyyneH2otipLIw</td>\n",
       "    </tr>\n",
       "    <tr>\n",
       "      <th>3</th>\n",
       "      <td>86</td>\n",
       "      <td>40</td>\n",
       "      <td>39</td>\n",
       "      <td>25.721009</td>\n",
       "      <td>88.165136</td>\n",
       "      <td>6.207460</td>\n",
       "      <td>175.608670</td>\n",
       "      <td>Jute</td>\n",
       "      <td>https://youtu.be/Y4wzO75tMjM?si=0DTyyneH2otipLIw</td>\n",
       "    </tr>\n",
       "    <tr>\n",
       "      <th>4</th>\n",
       "      <td>96</td>\n",
       "      <td>41</td>\n",
       "      <td>40</td>\n",
       "      <td>23.584193</td>\n",
       "      <td>72.004608</td>\n",
       "      <td>6.090060</td>\n",
       "      <td>190.424216</td>\n",
       "      <td>Jute</td>\n",
       "      <td>https://youtu.be/Y4wzO75tMjM?si=0DTyyneH2otipLIw</td>\n",
       "    </tr>\n",
       "    <tr>\n",
       "      <th>5</th>\n",
       "      <td>100</td>\n",
       "      <td>35</td>\n",
       "      <td>36</td>\n",
       "      <td>25.310423</td>\n",
       "      <td>72.013644</td>\n",
       "      <td>6.346715</td>\n",
       "      <td>190.557762</td>\n",
       "      <td>Jute</td>\n",
       "      <td>https://youtu.be/Y4wzO75tMjM?si=0DTyyneH2otipLIw</td>\n",
       "    </tr>\n",
       "  </tbody>\n",
       "</table>\n",
       "</div>"
      ],
      "text/plain": [
       "     N   P   K  temperature   humidity        ph    rainfall label  \\\n",
       "0   89  47  38    25.524690  72.248508  6.002525  151.886997  Jute   \n",
       "1   60  37  39    26.591050  82.941641  6.033485  161.247000  Jute   \n",
       "2   63  41  45    25.297818  86.887053  7.121934  196.624951  Jute   \n",
       "3   86  40  39    25.721009  88.165136  6.207460  175.608670  Jute   \n",
       "4   96  41  40    23.584193  72.004608  6.090060  190.424216  Jute   \n",
       "5  100  35  36    25.310423  72.013644  6.346715  190.557762  Jute   \n",
       "\n",
       "                                       youtube link  \n",
       "0  https://youtu.be/Y4wzO75tMjM?si=0DTyyneH2otipLIw  \n",
       "1  https://youtu.be/Y4wzO75tMjM?si=0DTyyneH2otipLIw  \n",
       "2  https://youtu.be/Y4wzO75tMjM?si=0DTyyneH2otipLIw  \n",
       "3  https://youtu.be/Y4wzO75tMjM?si=0DTyyneH2otipLIw  \n",
       "4  https://youtu.be/Y4wzO75tMjM?si=0DTyyneH2otipLIw  \n",
       "5  https://youtu.be/Y4wzO75tMjM?si=0DTyyneH2otipLIw  "
      ]
     },
     "execution_count": 6,
     "metadata": {},
     "output_type": "execute_result"
    }
   ],
   "source": [
    "df.head(6)"
   ]
  },
  {
   "cell_type": "code",
   "execution_count": 7,
   "id": "f7cf671e",
   "metadata": {},
   "outputs": [],
   "source": [
    "x=df.drop([\"label\",\"youtube link\"],axis=1)\n",
    "y=df[\"label\"]"
   ]
  },
  {
   "cell_type": "code",
   "execution_count": 8,
   "id": "edb76273",
   "metadata": {},
   "outputs": [],
   "source": [
    "from sklearn.model_selection import train_test_split\n",
    "x_train, x_test, y_train,y_test=train_test_split(x,y,random_state=1,test_size=0.35)"
   ]
  },
  {
   "cell_type": "code",
   "execution_count": 9,
   "id": "a5fd4ad2",
   "metadata": {
    "scrolled": false
   },
   "outputs": [],
   "source": [
    "from sklearn.ensemble import RandomForestClassifier\n",
    "model=RandomForestClassifier()\n",
    "model.fit(x_train,y_train)\n",
    "y_pred=model.predict(x_test)"
   ]
  },
  {
   "cell_type": "code",
   "execution_count": 10,
   "id": "072b1fa5",
   "metadata": {},
   "outputs": [
    {
     "name": "stdout",
     "output_type": "stream",
     "text": [
      "accuracy:0.9734232447441491\n"
     ]
    }
   ],
   "source": [
    "from sklearn.metrics import accuracy_score\n",
    "random_acc=accuracy_score(y_test,y_pred)\n",
    "print(\"accuracy:\"+str(random_acc))"
   ]
  },
  {
   "cell_type": "code",
   "execution_count": 11,
   "id": "8fd04e64",
   "metadata": {},
   "outputs": [],
   "source": [
    "import joblib"
   ]
  },
  {
   "cell_type": "code",
   "execution_count": 12,
   "id": "a70aa461",
   "metadata": {},
   "outputs": [
    {
     "data": {
      "text/plain": [
       "['crop app']"
      ]
     },
     "execution_count": 12,
     "metadata": {},
     "output_type": "execute_result"
    }
   ],
   "source": [
    "filename=\"crop app\"\n",
    "app=joblib.dump(model,\"crop app\")\n",
    "joblib.dump(model,\"crop app\")"
   ]
  },
  {
   "cell_type": "code",
   "execution_count": 15,
   "id": "f68f0846",
   "metadata": {},
   "outputs": [],
   "source": [
    "app=joblib.load(\"crop app\")"
   ]
  },
  {
   "cell_type": "code",
   "execution_count": 16,
   "id": "de9ddf24",
   "metadata": {},
   "outputs": [],
   "source": [
    "def get_input():\n",
    "    input_values = []\n",
    "    for i in range(7):\n",
    "        value = float(input(f\"Feature {i+1}: \"))\n",
    "        input_values.append(value)\n",
    "    return np.array(input_values).reshape(1, -1)"
   ]
  },
  {
   "cell_type": "code",
   "execution_count": 18,
   "id": "6d184db3",
   "metadata": {
    "scrolled": true
   },
   "outputs": [
    {
     "name": "stdout",
     "output_type": "stream",
     "text": [
      "Predicted crop: Pumpkin\n",
      "YouTube link: https://youtu.be/NNXFjg2_XgQ?si=RUYr9Rkaf3eejUlj\n"
     ]
    },
    {
     "name": "stderr",
     "output_type": "stream",
     "text": [
      "C:\\Users\\hp\\anaconda3\\Lib\\site-packages\\sklearn\\base.py:464: UserWarning: X does not have valid feature names, but RandomForestClassifier was fitted with feature names\n",
      "  warnings.warn(\n"
     ]
    }
   ],
   "source": [
    "# input_data = get_input()\n",
    "input_values = [102,51,103,30.525305,60,6.4,1428]\n",
    "input_values=np.array(input_values).reshape(1, -1)\n",
    "\n",
    "predicted_crop_label = model.predict(input_values)[0] \n",
    "\n",
    "predicted_crop_row = df.loc[df['label'] == predicted_crop_label]\n",
    "\n",
    "youtube_link = predicted_crop_row['youtube link'].values[0]\n",
    "print(\"Predicted crop:\", predicted_crop_label)\n",
    "print(\"YouTube link:\", youtube_link)"
   ]
  },
  {
   "cell_type": "code",
   "execution_count": null,
   "id": "ca28c59b",
   "metadata": {},
   "outputs": [],
   "source": []
  },
  {
   "cell_type": "code",
   "execution_count": null,
   "id": "6ad977a5",
   "metadata": {},
   "outputs": [],
   "source": []
  }
 ],
 "metadata": {
  "kernelspec": {
   "display_name": "Python 3 (ipykernel)",
   "language": "python",
   "name": "python3"
  },
  "language_info": {
   "codemirror_mode": {
    "name": "ipython",
    "version": 3
   },
   "file_extension": ".py",
   "mimetype": "text/x-python",
   "name": "python",
   "nbconvert_exporter": "python",
   "pygments_lexer": "ipython3",
   "version": "3.11.5"
  }
 },
 "nbformat": 4,
 "nbformat_minor": 5
}
